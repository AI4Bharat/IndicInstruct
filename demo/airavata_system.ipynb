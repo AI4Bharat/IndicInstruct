{
  "nbformat": 4,
  "nbformat_minor": 0,
  "metadata": {
    "colab": {
      "provenance": [],
      "gpuType": "T4"
    },
    "kernelspec": {
      "name": "python3",
      "display_name": "Python 3"
    },
    "language_info": {
      "name": "python"
    },
    "accelerator": "GPU",
    "widgets": {
      "application/vnd.jupyter.widget-state+json": {
        "ab8042558b9a4bad8c021d1c3f426779": {
          "model_module": "@jupyter-widgets/controls",
          "model_name": "HBoxModel",
          "model_module_version": "1.5.0",
          "state": {
            "_dom_classes": [],
            "_model_module": "@jupyter-widgets/controls",
            "_model_module_version": "1.5.0",
            "_model_name": "HBoxModel",
            "_view_count": null,
            "_view_module": "@jupyter-widgets/controls",
            "_view_module_version": "1.5.0",
            "_view_name": "HBoxView",
            "box_style": "",
            "children": [
              "IPY_MODEL_7c96c74603cd4b509a66bee88758045f",
              "IPY_MODEL_df4763ff7f464a93ab4cca1834941f47",
              "IPY_MODEL_8fe39d99699a4c34bb50413191b94e2d"
            ],
            "layout": "IPY_MODEL_9c6b86ecac0744df97a58e1cec4efbf5"
          }
        },
        "7c96c74603cd4b509a66bee88758045f": {
          "model_module": "@jupyter-widgets/controls",
          "model_name": "HTMLModel",
          "model_module_version": "1.5.0",
          "state": {
            "_dom_classes": [],
            "_model_module": "@jupyter-widgets/controls",
            "_model_module_version": "1.5.0",
            "_model_name": "HTMLModel",
            "_view_count": null,
            "_view_module": "@jupyter-widgets/controls",
            "_view_module_version": "1.5.0",
            "_view_name": "HTMLView",
            "description": "",
            "description_tooltip": null,
            "layout": "IPY_MODEL_200b6e62c4c94d4e98b2e36367e30724",
            "placeholder": "​",
            "style": "IPY_MODEL_b94c2106e7fc4c7a8331cdc85e88ec9a",
            "value": "Airavata.gguf: 100%"
          }
        },
        "df4763ff7f464a93ab4cca1834941f47": {
          "model_module": "@jupyter-widgets/controls",
          "model_name": "FloatProgressModel",
          "model_module_version": "1.5.0",
          "state": {
            "_dom_classes": [],
            "_model_module": "@jupyter-widgets/controls",
            "_model_module_version": "1.5.0",
            "_model_name": "FloatProgressModel",
            "_view_count": null,
            "_view_module": "@jupyter-widgets/controls",
            "_view_module_version": "1.5.0",
            "_view_name": "ProgressView",
            "bar_style": "success",
            "description": "",
            "description_tooltip": null,
            "layout": "IPY_MODEL_9ed3ce1f79754d629c74d6e3b4ff352d",
            "max": 13741862112,
            "min": 0,
            "orientation": "horizontal",
            "style": "IPY_MODEL_29f8f51e1b9d421a8c0db47c720b4594",
            "value": 13741862112
          }
        },
        "8fe39d99699a4c34bb50413191b94e2d": {
          "model_module": "@jupyter-widgets/controls",
          "model_name": "HTMLModel",
          "model_module_version": "1.5.0",
          "state": {
            "_dom_classes": [],
            "_model_module": "@jupyter-widgets/controls",
            "_model_module_version": "1.5.0",
            "_model_name": "HTMLModel",
            "_view_count": null,
            "_view_module": "@jupyter-widgets/controls",
            "_view_module_version": "1.5.0",
            "_view_name": "HTMLView",
            "description": "",
            "description_tooltip": null,
            "layout": "IPY_MODEL_f9cfdf4bee494218826f5d8ffa1a48ce",
            "placeholder": "​",
            "style": "IPY_MODEL_c81979bcd184449189f785ef962ab8b8",
            "value": " 13.7G/13.7G [03:34&lt;00:00, 55.3MB/s]"
          }
        },
        "9c6b86ecac0744df97a58e1cec4efbf5": {
          "model_module": "@jupyter-widgets/base",
          "model_name": "LayoutModel",
          "model_module_version": "1.2.0",
          "state": {
            "_model_module": "@jupyter-widgets/base",
            "_model_module_version": "1.2.0",
            "_model_name": "LayoutModel",
            "_view_count": null,
            "_view_module": "@jupyter-widgets/base",
            "_view_module_version": "1.2.0",
            "_view_name": "LayoutView",
            "align_content": null,
            "align_items": null,
            "align_self": null,
            "border": null,
            "bottom": null,
            "display": null,
            "flex": null,
            "flex_flow": null,
            "grid_area": null,
            "grid_auto_columns": null,
            "grid_auto_flow": null,
            "grid_auto_rows": null,
            "grid_column": null,
            "grid_gap": null,
            "grid_row": null,
            "grid_template_areas": null,
            "grid_template_columns": null,
            "grid_template_rows": null,
            "height": null,
            "justify_content": null,
            "justify_items": null,
            "left": null,
            "margin": null,
            "max_height": null,
            "max_width": null,
            "min_height": null,
            "min_width": null,
            "object_fit": null,
            "object_position": null,
            "order": null,
            "overflow": null,
            "overflow_x": null,
            "overflow_y": null,
            "padding": null,
            "right": null,
            "top": null,
            "visibility": null,
            "width": null
          }
        },
        "200b6e62c4c94d4e98b2e36367e30724": {
          "model_module": "@jupyter-widgets/base",
          "model_name": "LayoutModel",
          "model_module_version": "1.2.0",
          "state": {
            "_model_module": "@jupyter-widgets/base",
            "_model_module_version": "1.2.0",
            "_model_name": "LayoutModel",
            "_view_count": null,
            "_view_module": "@jupyter-widgets/base",
            "_view_module_version": "1.2.0",
            "_view_name": "LayoutView",
            "align_content": null,
            "align_items": null,
            "align_self": null,
            "border": null,
            "bottom": null,
            "display": null,
            "flex": null,
            "flex_flow": null,
            "grid_area": null,
            "grid_auto_columns": null,
            "grid_auto_flow": null,
            "grid_auto_rows": null,
            "grid_column": null,
            "grid_gap": null,
            "grid_row": null,
            "grid_template_areas": null,
            "grid_template_columns": null,
            "grid_template_rows": null,
            "height": null,
            "justify_content": null,
            "justify_items": null,
            "left": null,
            "margin": null,
            "max_height": null,
            "max_width": null,
            "min_height": null,
            "min_width": null,
            "object_fit": null,
            "object_position": null,
            "order": null,
            "overflow": null,
            "overflow_x": null,
            "overflow_y": null,
            "padding": null,
            "right": null,
            "top": null,
            "visibility": null,
            "width": null
          }
        },
        "b94c2106e7fc4c7a8331cdc85e88ec9a": {
          "model_module": "@jupyter-widgets/controls",
          "model_name": "DescriptionStyleModel",
          "model_module_version": "1.5.0",
          "state": {
            "_model_module": "@jupyter-widgets/controls",
            "_model_module_version": "1.5.0",
            "_model_name": "DescriptionStyleModel",
            "_view_count": null,
            "_view_module": "@jupyter-widgets/base",
            "_view_module_version": "1.2.0",
            "_view_name": "StyleView",
            "description_width": ""
          }
        },
        "9ed3ce1f79754d629c74d6e3b4ff352d": {
          "model_module": "@jupyter-widgets/base",
          "model_name": "LayoutModel",
          "model_module_version": "1.2.0",
          "state": {
            "_model_module": "@jupyter-widgets/base",
            "_model_module_version": "1.2.0",
            "_model_name": "LayoutModel",
            "_view_count": null,
            "_view_module": "@jupyter-widgets/base",
            "_view_module_version": "1.2.0",
            "_view_name": "LayoutView",
            "align_content": null,
            "align_items": null,
            "align_self": null,
            "border": null,
            "bottom": null,
            "display": null,
            "flex": null,
            "flex_flow": null,
            "grid_area": null,
            "grid_auto_columns": null,
            "grid_auto_flow": null,
            "grid_auto_rows": null,
            "grid_column": null,
            "grid_gap": null,
            "grid_row": null,
            "grid_template_areas": null,
            "grid_template_columns": null,
            "grid_template_rows": null,
            "height": null,
            "justify_content": null,
            "justify_items": null,
            "left": null,
            "margin": null,
            "max_height": null,
            "max_width": null,
            "min_height": null,
            "min_width": null,
            "object_fit": null,
            "object_position": null,
            "order": null,
            "overflow": null,
            "overflow_x": null,
            "overflow_y": null,
            "padding": null,
            "right": null,
            "top": null,
            "visibility": null,
            "width": null
          }
        },
        "29f8f51e1b9d421a8c0db47c720b4594": {
          "model_module": "@jupyter-widgets/controls",
          "model_name": "ProgressStyleModel",
          "model_module_version": "1.5.0",
          "state": {
            "_model_module": "@jupyter-widgets/controls",
            "_model_module_version": "1.5.0",
            "_model_name": "ProgressStyleModel",
            "_view_count": null,
            "_view_module": "@jupyter-widgets/base",
            "_view_module_version": "1.2.0",
            "_view_name": "StyleView",
            "bar_color": null,
            "description_width": ""
          }
        },
        "f9cfdf4bee494218826f5d8ffa1a48ce": {
          "model_module": "@jupyter-widgets/base",
          "model_name": "LayoutModel",
          "model_module_version": "1.2.0",
          "state": {
            "_model_module": "@jupyter-widgets/base",
            "_model_module_version": "1.2.0",
            "_model_name": "LayoutModel",
            "_view_count": null,
            "_view_module": "@jupyter-widgets/base",
            "_view_module_version": "1.2.0",
            "_view_name": "LayoutView",
            "align_content": null,
            "align_items": null,
            "align_self": null,
            "border": null,
            "bottom": null,
            "display": null,
            "flex": null,
            "flex_flow": null,
            "grid_area": null,
            "grid_auto_columns": null,
            "grid_auto_flow": null,
            "grid_auto_rows": null,
            "grid_column": null,
            "grid_gap": null,
            "grid_row": null,
            "grid_template_areas": null,
            "grid_template_columns": null,
            "grid_template_rows": null,
            "height": null,
            "justify_content": null,
            "justify_items": null,
            "left": null,
            "margin": null,
            "max_height": null,
            "max_width": null,
            "min_height": null,
            "min_width": null,
            "object_fit": null,
            "object_position": null,
            "order": null,
            "overflow": null,
            "overflow_x": null,
            "overflow_y": null,
            "padding": null,
            "right": null,
            "top": null,
            "visibility": null,
            "width": null
          }
        },
        "c81979bcd184449189f785ef962ab8b8": {
          "model_module": "@jupyter-widgets/controls",
          "model_name": "DescriptionStyleModel",
          "model_module_version": "1.5.0",
          "state": {
            "_model_module": "@jupyter-widgets/controls",
            "_model_module_version": "1.5.0",
            "_model_name": "DescriptionStyleModel",
            "_view_count": null,
            "_view_module": "@jupyter-widgets/base",
            "_view_module_version": "1.2.0",
            "_view_name": "StyleView",
            "description_width": ""
          }
        }
      }
    }
  },
  "cells": [
    {
      "cell_type": "code",
      "source": [
        "# Install llama-cpp\n",
        "\n",
        "!set LLAMA_CUBLAS=1\n",
        "!set CMAKE_ARGS=-DLLAMA_CUBLAS=on\n",
        "!set FORCE_CMAKE=1\n",
        "\n",
        "!python -m pip install llama-cpp-python==0.2.7 --prefer-binary --extra-index-url=https://jllllll.github.io/llama-cpp-python-cuBLAS-wheels/AVX2/cu122"
      ],
      "metadata": {
        "id": "9yQpqRI06M7R",
        "colab": {
          "base_uri": "https://localhost:8080/"
        },
        "outputId": "e1ac74a6-a5ba-4150-e48a-c4cdadfaf9fa"
      },
      "execution_count": 1,
      "outputs": [
        {
          "output_type": "stream",
          "name": "stdout",
          "text": [
            "Looking in indexes: https://pypi.org/simple, https://jllllll.github.io/llama-cpp-python-cuBLAS-wheels/AVX2/cu122\n",
            "Collecting llama-cpp-python==0.2.7\n",
            "  Downloading https://github.com/jllllll/llama-cpp-python-cuBLAS-wheels/releases/download/wheels/llama_cpp_python-0.2.7%2Bcu122-cp310-cp310-manylinux_2_31_x86_64.whl (14.8 MB)\n",
            "\u001b[2K     \u001b[90m━━━━━━━━━━━━━━━━━━━━━━━━━━━━━━━━━━━━━━━━\u001b[0m \u001b[32m14.8/14.8 MB\u001b[0m \u001b[31m64.7 MB/s\u001b[0m eta \u001b[36m0:00:00\u001b[0m\n",
            "\u001b[?25hRequirement already satisfied: typing-extensions>=4.5.0 in /usr/local/lib/python3.10/dist-packages (from llama-cpp-python==0.2.7) (4.12.2)\n",
            "Requirement already satisfied: numpy>=1.20.0 in /usr/local/lib/python3.10/dist-packages (from llama-cpp-python==0.2.7) (1.26.4)\n",
            "Collecting diskcache>=5.6.1 (from llama-cpp-python==0.2.7)\n",
            "  Downloading diskcache-5.6.3-py3-none-any.whl.metadata (20 kB)\n",
            "Downloading diskcache-5.6.3-py3-none-any.whl (45 kB)\n",
            "\u001b[2K   \u001b[90m━━━━━━━━━━━━━━━━━━━━━━━━━━━━━━━━━━━━━━━━\u001b[0m \u001b[32m45.5/45.5 kB\u001b[0m \u001b[31m2.3 MB/s\u001b[0m eta \u001b[36m0:00:00\u001b[0m\n",
            "\u001b[?25hInstalling collected packages: diskcache, llama-cpp-python\n",
            "Successfully installed diskcache-5.6.3 llama-cpp-python-0.2.7+cu122\n"
          ]
        }
      ]
    },
    {
      "cell_type": "code",
      "source": [
        "# Download Airavata.gguf\n",
        "\n",
        "import os\n",
        "from huggingface_hub import hf_hub_download\n",
        "\n",
        "def read_token(file_path):\n",
        "    try:\n",
        "        with open(file_path, 'r') as file:\n",
        "            return file.readline().strip()\n",
        "    except FileNotFoundError:\n",
        "        raise ValueError(f\"Token file not found: {file_path}\")\n",
        "\n",
        "# Define the model name and file\n",
        "model_name = \"ai4bharat/Airavata\"\n",
        "model_file = \"Airavata.gguf\"\n",
        "\n",
        "# Download the model from Hugging Face Hub\n",
        "model_path = hf_hub_download(\n",
        "    model_name,\n",
        "    filename=model_file,\n",
        "    local_dir='models/',  # Download the model to the \"models\" folder\n",
        ")\n",
        "\n",
        "print(\"Model path:\", model_path) # models/Airavata"
      ],
      "metadata": {
        "id": "YjOQoCms6VUu",
        "colab": {
          "base_uri": "https://localhost:8080/",
          "height": 196,
          "referenced_widgets": [
            "ab8042558b9a4bad8c021d1c3f426779",
            "7c96c74603cd4b509a66bee88758045f",
            "df4763ff7f464a93ab4cca1834941f47",
            "8fe39d99699a4c34bb50413191b94e2d",
            "9c6b86ecac0744df97a58e1cec4efbf5",
            "200b6e62c4c94d4e98b2e36367e30724",
            "b94c2106e7fc4c7a8331cdc85e88ec9a",
            "9ed3ce1f79754d629c74d6e3b4ff352d",
            "29f8f51e1b9d421a8c0db47c720b4594",
            "f9cfdf4bee494218826f5d8ffa1a48ce",
            "c81979bcd184449189f785ef962ab8b8"
          ]
        },
        "outputId": "15b45f23-c35c-4072-b6d7-944903c94ab6"
      },
      "execution_count": 2,
      "outputs": [
        {
          "output_type": "stream",
          "name": "stderr",
          "text": [
            "/usr/local/lib/python3.10/dist-packages/huggingface_hub/utils/_token.py:89: UserWarning: \n",
            "The secret `HF_TOKEN` does not exist in your Colab secrets.\n",
            "To authenticate with the Hugging Face Hub, create a token in your settings tab (https://huggingface.co/settings/tokens), set it as secret in your Google Colab and restart your session.\n",
            "You will be able to reuse this secret in all of your notebooks.\n",
            "Please note that authentication is recommended but still optional to access public models or datasets.\n",
            "  warnings.warn(\n"
          ]
        },
        {
          "output_type": "display_data",
          "data": {
            "text/plain": [
              "Airavata.gguf:   0%|          | 0.00/13.7G [00:00<?, ?B/s]"
            ],
            "application/vnd.jupyter.widget-view+json": {
              "version_major": 2,
              "version_minor": 0,
              "model_id": "ab8042558b9a4bad8c021d1c3f426779"
            }
          },
          "metadata": {}
        },
        {
          "output_type": "stream",
          "name": "stdout",
          "text": [
            "Model path: models/Airavata.gguf\n"
          ]
        }
      ]
    },
    {
      "cell_type": "code",
      "source": [
        "from llama_cpp import Llama\n",
        "\n",
        "MESSAGES = []\n",
        "\n",
        "def create_prompt_with_chat_format(messages, bos=\"<s>\", eos=\"</s>\", add_bos=True):\n",
        "    formatted_text = \"\"\n",
        "    for message in messages:\n",
        "        if message[\"role\"] == \"system\":\n",
        "            formatted_text += \"<|system|>\\n\" + message[\"content\"] + \"\\n\"\n",
        "        elif message[\"role\"] == \"user\":\n",
        "            formatted_text += \"<|user|>\\n\" + message[\"content\"] + \"\\n\"\n",
        "        elif message[\"role\"] == \"assistant\":\n",
        "            formatted_text += \"<|assistant|>\\n\" + message[\"content\"].strip() + eos + \"\\n\"\n",
        "        else:\n",
        "            raise ValueError(\n",
        "                \"Tulu chat template only supports 'system', 'user' and 'assistant' roles. Invalid role: {}.\".format(\n",
        "                    message[\"role\"]\n",
        "                )\n",
        "            )\n",
        "    formatted_text += \"<|assistant|>\\n\"\n",
        "    formatted_text = bos + formatted_text if add_bos else formatted_text\n",
        "    return formatted_text\n",
        "\n",
        "\n",
        "def select_llm() -> Llama:\n",
        "    return Llama(model_path=\"models/Airavata.gguf\", n_gpu_layers=-1, n_threads=2, n_ctx=4096, verbose=True)\n",
        "\n",
        "def get_answer(llm, messages, memory=5) -> str:\n",
        "    generation_kwargs = {\n",
        "      \"max_tokens\":200,\n",
        "      \"stop\":[\"</s>\"],\n",
        "      \"echo\":False,\n",
        "      \"top_k\":50,\n",
        "      \"top_p\":0.5\n",
        "    }\n",
        "    res = llm(create_prompt_with_chat_format(messages[-5:], add_bos=False), **generation_kwargs)\n",
        "\n",
        "    return res[\"choices\"][0][\"text\"]"
      ],
      "metadata": {
        "id": "FQg4SB9o6pJB"
      },
      "execution_count": 8,
      "outputs": []
    },
    {
      "cell_type": "code",
      "source": [
        "llm = select_llm()"
      ],
      "metadata": {
        "id": "b-UG9ae56xT0",
        "colab": {
          "base_uri": "https://localhost:8080/"
        },
        "outputId": "445f6a74-81eb-4e6a-ec84-03999f61b342"
      },
      "execution_count": 4,
      "outputs": [
        {
          "output_type": "stream",
          "name": "stderr",
          "text": [
            "AVX = 1 | AVX2 = 1 | AVX512 = 0 | AVX512_VBMI = 0 | AVX512_VNNI = 0 | FMA = 1 | NEON = 0 | ARM_FMA = 0 | F16C = 1 | FP16_VA = 0 | WASM_SIMD = 0 | BLAS = 1 | SSE3 = 1 | SSSE3 = 1 | VSX = 0 | \n"
          ]
        }
      ]
    },
    {
      "cell_type": "code",
      "source": [
        "from IPython.display import display, HTML\n",
        "\n",
        "from airavata_html import chat_html, js_code, update_html\n",
        "\n",
        "MESSAGES = []\n",
        "\n",
        "# Display the HTML and JavaScript\n",
        "display(HTML(chat_html + js_code))\n",
        "\n",
        "\n",
        "from IPython.display import display, HTML\n",
        "\n",
        "# Define the Python function to process the input\n",
        "def process_input(user_input):\n",
        "    global MESSAGES, update_html\n",
        "    print(\"User:\",user_input, \"\\n\")\n",
        "    MESSAGES.append({\"role\": \"user\", \"content\": user_input})\n",
        "    response = get_answer(llm, MESSAGES)\n",
        "    MESSAGES.append({\"role\": \"assistant\", \"content\": response})\n",
        "    print(\"Airavata:\",response,\"\\n\")\n",
        "\n",
        "    user_input_escaped = user_input.replace(\"'\", \"\\\\'\").replace('\"', '\\\\\"')\n",
        "    response_escaped =  response = response.replace('\\n', '<br>').replace(\"'\", \"\\\\'\").replace('\"', '\\\\\"')\n",
        "\n",
        "\n",
        "    display(HTML(update_html.format(user_input=user_input_escaped, response=response_escaped)))\n",
        "\n",
        "# Register the Python function with the notebook\n",
        "from google.colab import output\n",
        "output.register_callback('process_input', process_input)\n",
        "print(\"[Debug]\\n\")"
      ],
      "metadata": {
        "id": "H-Wtiejo60Nt",
        "colab": {
          "base_uri": "https://localhost:8080/",
          "height": 1000
        },
        "outputId": "5456e21d-0fcb-4a89-c040-2e124b801b8e"
      },
      "execution_count": 9,
      "outputs": [
        {
          "output_type": "display_data",
          "data": {
            "text/plain": [
              "<IPython.core.display.HTML object>"
            ],
            "text/html": [
              "\n",
              "<style>\n",
              "    .chat-container {\n",
              "        width: 100%;\n",
              "        max-width: 600px;\n",
              "        margin: auto;\n",
              "        border: 1px solid #ccc;\n",
              "        border-radius: 10px;\n",
              "        padding: 10px;\n",
              "        font-family: Arial, sans-serif;\n",
              "        background-color: #f9f9f9;\n",
              "        height: 400px;\n",
              "        overflow-y: auto;\n",
              "        position: relative;\n",
              "    }\n",
              "    .chat-message {\n",
              "        margin-bottom: 10px;\n",
              "    }\n",
              "    .user-message {\n",
              "        color: #007bff;\n",
              "        font-weight: bold;\n",
              "    }\n",
              "    .bot-message {\n",
              "        color: #333;\n",
              "    }\n",
              "    .chat-input {\n",
              "        width: 100%;\n",
              "        padding: 10px;\n",
              "        border: 1px solid #ccc;\n",
              "        border-radius: 5px;\n",
              "        margin-top: 10px;\n",
              "    }\n",
              "    .chat-icon {\n",
              "        position: fixed; /* Fixes the position relative to the viewport */\n",
              "        top: 10px;\n",
              "        right: 10px;\n",
              "        width: 150px;\n",
              "        height: auto;\n",
              "        cursor: pointer;\n",
              "        background-color: #fff;\n",
              "        padding: 5px; /* Optional: add padding */\n",
              "        border-radius: 5px; /* Optional: add rounded corners */\n",
              "        z-index: 1000; /* Ensure the icon is on top of other elements */\n",
              "    }\n",
              "</style>\n",
              "<div class=\"chat-container\" id=\"chat-output\">\n",
              "    <img src=\"https://ai4bharat.github.io/airavata/static/images/cover.png\" class=\"chat-icon\" alt=\"Chatbot Icon\">\n",
              "    <div class=\"chat-message bot-message\">\n",
              "        <b>Airavata:</b> नमस्ते! मैं ऐरावत हूँ, आपका हिंदी और अंग्रेजी चैट सहायक। कृपया जारी रखने के लिए अपना प्रश्न हिंदी या अंग्रेजी में दर्ज करें। Hello! I'm Airavata, your Hindi and English Chat Assistant. Kindly enter your query in Hindi or English to continue.\n",
              "    </div>\n",
              "</div>\n",
              "<input id=\"user-input\" type=\"text\" class=\"chat-input\" placeholder=\"Type a message...\">\n",
              "\n",
              "<script>\n",
              "function handleInput() {\n",
              "    var userInput = document.getElementById('user-input').value;\n",
              "    var chatOutput = document.getElementById('chat-output');\n",
              "    chatOutput.innerHTML += '<div class=\"chat-message bot-message\"> <b>Airavata:</b> Processing...</div>';\n",
              "    document.getElementById('user-input').value = '';\n",
              "    google.colab.kernel.invokeFunction('process_input', [userInput], {});\n",
              "}\n",
              "\n",
              "document.getElementById('user-input').addEventListener('keypress', function(e) {\n",
              "    if (e.key === 'Enter') {\n",
              "        handleInput();\n",
              "    }\n",
              "});\n",
              "</script>\n"
            ]
          },
          "metadata": {}
        },
        {
          "output_type": "stream",
          "name": "stdout",
          "text": [
            "[Debug]\n",
            "\n",
            "User: Hi \n",
            "\n"
          ]
        },
        {
          "output_type": "stream",
          "name": "stderr",
          "text": [
            "Llama.generate: prefix-match hit\n"
          ]
        },
        {
          "output_type": "stream",
          "name": "stdout",
          "text": [
            "Airavata: Hello! How can I help you today? \n",
            "\n"
          ]
        },
        {
          "output_type": "display_data",
          "data": {
            "text/plain": [
              "<IPython.core.display.HTML object>"
            ],
            "text/html": [
              "\n",
              "<script>\n",
              "var chatOutput = document.getElementById('chat-output');\n",
              "var messages = chatOutput.getElementsByClassName('bot-message');\n",
              "\n",
              "// Remove the \"Processing...\" message\n",
              "for (var i = 0; i < messages.length; i++) {\n",
              "    if (messages[i].textContent.includes('Processing...')) {\n",
              "        messages[i].remove();\n",
              "        break;\n",
              "    }\n",
              "}\n",
              "\n",
              "chatOutput.innerHTML += '<div class=\"chat-message user-message\">User: Hi</div>';\n",
              "chatOutput.innerHTML += '<div class=\"chat-message bot-message\"><b>Airavata:</b> Hello! How can I help you today?</div>';\n",
              "chatOutput.scrollTop = chatOutput.scrollHeight;  // Scroll to the bottom\n",
              "</script>\n"
            ]
          },
          "metadata": {}
        },
        {
          "output_type": "stream",
          "name": "stdout",
          "text": [
            "User: How many types of passports are there? \n",
            "\n"
          ]
        },
        {
          "output_type": "stream",
          "name": "stderr",
          "text": [
            "Llama.generate: prefix-match hit\n"
          ]
        },
        {
          "output_type": "stream",
          "name": "stdout",
          "text": [
            "Airavata: There are several different types of passports that are issued by various countries. Some common types include:\n",
            "\n",
            "1. Regular Passport: This is the most commonly used type of passport and is issued to citizens of most countries for travel purposes. It has a standard design, validity period of 5 years, and requires certain information such as name, date of birth, address, and signature.\n",
            "2. Visa Passport: These are special types of passports that are used by foreigners who need to obtain visas to enter or stay in a particular country for longer periods of time. They typically have specific features and requirements that differ from regular passports.\n",
            "3. Nationality Passport: This is issued to citizens of certain countries who hold dual nationality, such as those with both US and Canadian citizenship. It has special security features and requires additional information to be included on the application form.\n",
            "4. Electronic Passport: These are digital versions of \n",
            "\n"
          ]
        },
        {
          "output_type": "display_data",
          "data": {
            "text/plain": [
              "<IPython.core.display.HTML object>"
            ],
            "text/html": [
              "\n",
              "<script>\n",
              "var chatOutput = document.getElementById('chat-output');\n",
              "var messages = chatOutput.getElementsByClassName('bot-message');\n",
              "\n",
              "// Remove the \"Processing...\" message\n",
              "for (var i = 0; i < messages.length; i++) {\n",
              "    if (messages[i].textContent.includes('Processing...')) {\n",
              "        messages[i].remove();\n",
              "        break;\n",
              "    }\n",
              "}\n",
              "\n",
              "chatOutput.innerHTML += '<div class=\"chat-message user-message\">User: How many types of passports are there?</div>';\n",
              "chatOutput.innerHTML += '<div class=\"chat-message bot-message\"><b>Airavata:</b> There are several different types of passports that are issued by various countries. Some common types include:<br><br>1. Regular Passport: This is the most commonly used type of passport and is issued to citizens of most countries for travel purposes. It has a standard design, validity period of 5 years, and requires certain information such as name, date of birth, address, and signature.<br>2. Visa Passport: These are special types of passports that are used by foreigners who need to obtain visas to enter or stay in a particular country for longer periods of time. They typically have specific features and requirements that differ from regular passports.<br>3. Nationality Passport: This is issued to citizens of certain countries who hold dual nationality, such as those with both US and Canadian citizenship. It has special security features and requires additional information to be included on the application form.<br>4. Electronic Passport: These are digital versions of</div>';\n",
              "chatOutput.scrollTop = chatOutput.scrollHeight;  // Scroll to the bottom\n",
              "</script>\n"
            ]
          },
          "metadata": {}
        },
        {
          "output_type": "stream",
          "name": "stdout",
          "text": [
            "User: How many types of visas are there? \n",
            "\n"
          ]
        },
        {
          "output_type": "stream",
          "name": "stderr",
          "text": [
            "Llama.generate: prefix-match hit\n"
          ]
        },
        {
          "output_type": "stream",
          "name": "stdout",
          "text": [
            "Airavata: There are several different types of visas that are issued by various countries for different purposes, such as traveling, studying, working, or living in a particular country. Some common types include:\n",
            "\n",
            "1. Tourist Visa: This is the most commonly used type of visa and is issued to foreigners who want to visit a particular country for tourism purposes. It typically has a validity period of 3 months to one year, depending on the country.\n",
            "2. Student Visa: These are issued to foreign students who need to obtain permission from their home country to study in another country. They usually have specific requirements such as proof of enrollment and financial support.\n",
            "3. Work Visa: These are issued to foreigners who want to work in a particular country for long periods of time, typically up to 5 years or more. They require certain qualifications and certifications, as well as proof of employment and income.\n",
            "4. Resident \n",
            "\n"
          ]
        },
        {
          "output_type": "display_data",
          "data": {
            "text/plain": [
              "<IPython.core.display.HTML object>"
            ],
            "text/html": [
              "\n",
              "<script>\n",
              "var chatOutput = document.getElementById('chat-output');\n",
              "var messages = chatOutput.getElementsByClassName('bot-message');\n",
              "\n",
              "// Remove the \"Processing...\" message\n",
              "for (var i = 0; i < messages.length; i++) {\n",
              "    if (messages[i].textContent.includes('Processing...')) {\n",
              "        messages[i].remove();\n",
              "        break;\n",
              "    }\n",
              "}\n",
              "\n",
              "chatOutput.innerHTML += '<div class=\"chat-message user-message\">User: How many types of visas are there?</div>';\n",
              "chatOutput.innerHTML += '<div class=\"chat-message bot-message\"><b>Airavata:</b> There are several different types of visas that are issued by various countries for different purposes, such as traveling, studying, working, or living in a particular country. Some common types include:<br><br>1. Tourist Visa: This is the most commonly used type of visa and is issued to foreigners who want to visit a particular country for tourism purposes. It typically has a validity period of 3 months to one year, depending on the country.<br>2. Student Visa: These are issued to foreign students who need to obtain permission from their home country to study in another country. They usually have specific requirements such as proof of enrollment and financial support.<br>3. Work Visa: These are issued to foreigners who want to work in a particular country for long periods of time, typically up to 5 years or more. They require certain qualifications and certifications, as well as proof of employment and income.<br>4. Resident</div>';\n",
              "chatOutput.scrollTop = chatOutput.scrollHeight;  // Scroll to the bottom\n",
              "</script>\n"
            ]
          },
          "metadata": {}
        },
        {
          "output_type": "stream",
          "name": "stdout",
          "text": [
            "User: In general, what type of questions have I been asking? \n",
            "\n"
          ]
        },
        {
          "output_type": "stream",
          "name": "stderr",
          "text": [
            "Llama.generate: prefix-match hit\n"
          ]
        },
        {
          "output_type": "stream",
          "name": "stdout",
          "text": [
            "Airavata: You've asked a variety of questions about different types of passports and visas, including the number of each type, their requirements, and how they \n",
            "\n"
          ]
        },
        {
          "output_type": "display_data",
          "data": {
            "text/plain": [
              "<IPython.core.display.HTML object>"
            ],
            "text/html": [
              "\n",
              "<script>\n",
              "var chatOutput = document.getElementById('chat-output');\n",
              "var messages = chatOutput.getElementsByClassName('bot-message');\n",
              "\n",
              "// Remove the \"Processing...\" message\n",
              "for (var i = 0; i < messages.length; i++) {\n",
              "    if (messages[i].textContent.includes('Processing...')) {\n",
              "        messages[i].remove();\n",
              "        break;\n",
              "    }\n",
              "}\n",
              "\n",
              "chatOutput.innerHTML += '<div class=\"chat-message user-message\">User: In general, what type of questions have I been asking?</div>';\n",
              "chatOutput.innerHTML += '<div class=\"chat-message bot-message\"><b>Airavata:</b> You\\'ve asked a variety of questions about different types of passports and visas, including the number of each type, their requirements, and how they</div>';\n",
              "chatOutput.scrollTop = chatOutput.scrollHeight;  // Scroll to the bottom\n",
              "</script>\n"
            ]
          },
          "metadata": {}
        }
      ]
    }
  ]
}